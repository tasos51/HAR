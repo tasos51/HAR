{
 "cells": [
  {
   "cell_type": "code",
   "execution_count": 1,
   "id": "a07d2660-4c15-4e07-9ceb-55dfcb865612",
   "metadata": {
    "execution": {
     "iopub.execute_input": "2021-06-16T08:49:07.667902Z",
     "iopub.status.busy": "2021-06-16T08:49:07.667729Z",
     "iopub.status.idle": "2021-06-16T08:49:07.856775Z",
     "shell.execute_reply": "2021-06-16T08:49:07.856188Z",
     "shell.execute_reply.started": "2021-06-16T08:49:07.667849Z"
    },
    "tags": []
   },
   "outputs": [],
   "source": [
    "import pandas as pd\n",
    "import numpy as np\n",
    "import re"
   ]
  },
  {
   "cell_type": "code",
   "execution_count": 2,
   "id": "ed7c9603-2c87-4266-9b14-c526e5d3fa42",
   "metadata": {
    "execution": {
     "iopub.execute_input": "2021-06-16T08:49:07.858175Z",
     "iopub.status.busy": "2021-06-16T08:49:07.858026Z",
     "iopub.status.idle": "2021-06-16T08:49:07.862708Z",
     "shell.execute_reply": "2021-06-16T08:49:07.861602Z",
     "shell.execute_reply.started": "2021-06-16T08:49:07.858159Z"
    },
    "tags": []
   },
   "outputs": [],
   "source": [
    "def find_cols_from_substring(columns, keys):\n",
    "    res = []\n",
    "    for key in keys:\n",
    "        p = re.compile(key)\n",
    "        res.extend([s for s in columns if p.search(s)])\n",
    "    return res"
   ]
  },
  {
   "cell_type": "code",
   "execution_count": 3,
   "id": "7a926542-4a23-4e83-a3b3-c5aee4be7434",
   "metadata": {
    "execution": {
     "iopub.execute_input": "2021-06-16T08:49:07.864049Z",
     "iopub.status.busy": "2021-06-16T08:49:07.863818Z",
     "iopub.status.idle": "2021-06-16T08:49:08.074048Z",
     "shell.execute_reply": "2021-06-16T08:49:08.073406Z",
     "shell.execute_reply.started": "2021-06-16T08:49:07.864029Z"
    },
    "tags": []
   },
   "outputs": [
    {
     "name": "stderr",
     "output_type": "stream",
     "text": [
      "/home/tasos51/miniconda3/envs/ML4QS/lib/python3.7/site-packages/IPython/core/interactiveshell.py:3166: DtypeWarning: Columns (11,14,19,22,25,70,73,86,87,89,90,94,97,100) have mixed types.Specify dtype option on import or set low_memory=False.\n",
      "  interactivity=interactivity, compiler=compiler, result=result)\n"
     ]
    }
   ],
   "source": [
    "training_data = pd.read_csv(\"../datasets/pml-training.csv\", index_col=\"Unnamed: 0\")\n",
    "testing_data = pd.read_csv(\"../datasets/pml-testing.csv\", index_col=\"Unnamed: 0\")"
   ]
  },
  {
   "cell_type": "code",
   "execution_count": 4,
   "id": "44feb6fd-531f-4f7d-88d9-6988f7786f44",
   "metadata": {
    "execution": {
     "iopub.execute_input": "2021-06-16T08:49:08.074823Z",
     "iopub.status.busy": "2021-06-16T08:49:08.074691Z",
     "iopub.status.idle": "2021-06-16T08:49:08.666070Z",
     "shell.execute_reply": "2021-06-16T08:49:08.665447Z",
     "shell.execute_reply.started": "2021-06-16T08:49:08.074806Z"
    },
    "tags": []
   },
   "outputs": [],
   "source": [
    "keys = ['kurtosis', 'skewness', 'max', 'min', 'amplitude', 'var', 'avg', 'stddev']\n",
    "\n",
    "training_data['raw_timestamp'] = training_data['raw_timestamp_part_1'].astype(str) + \\\n",
    "                                \".\" + \\\n",
    "                                training_data['raw_timestamp_part_2'].astype(str)\n",
    "\n",
    "training_data['raw_timestamp'] = (pd.to_numeric(training_data['raw_timestamp']) * 10**9).astype('int64')\n",
    "training_data['raw_timestamp'] = pd.to_datetime(training_data['raw_timestamp'], unit = 'ns')\n",
    "training_data.set_index('raw_timestamp', inplace=True)\n",
    "training_data = training_data.sort_values(by='raw_timestamp', axis=0)\n",
    "\n",
    "\n",
    "training_data = pd.concat([training_data, pd.get_dummies(training_data['classe'], prefix='label', prefix_sep='')], axis=1)\n",
    "\n",
    "unused_cols = ['raw_timestamp_part_1', 'raw_timestamp_part_2', 'classe', 'new_window', 'num_window', 'cvtd_timestamp']\n",
    "unused_cols.extend(find_cols_from_substring(training_data.columns, keys))\n",
    "training_data.drop(unused_cols, axis=1, inplace=True)\n",
    "\n",
    "training_data\n",
    "training_data.to_csv('../datasets/training-processed-combined.csv')"
   ]
  },
  {
   "cell_type": "code",
   "execution_count": 5,
   "id": "c3000e2f-bc12-4b92-9d11-cb0c5232f6ed",
   "metadata": {
    "execution": {
     "iopub.execute_input": "2021-06-16T08:49:08.666946Z",
     "iopub.status.busy": "2021-06-16T08:49:08.666817Z",
     "iopub.status.idle": "2021-06-16T08:49:10.288370Z",
     "shell.execute_reply": "2021-06-16T08:49:10.287742Z",
     "shell.execute_reply.started": "2021-06-16T08:49:08.666930Z"
    },
    "tags": []
   },
   "outputs": [],
   "source": [
    "groups = training_data.groupby('user_name')\n",
    "\n",
    "for name, group in groups:\n",
    "    g = group.copy()\n",
    "    g.drop('user_name', axis=1, inplace=True)\n",
    "    g.to_csv('../datasets/' + name + '.csv')"
   ]
  }
 ],
 "metadata": {
  "kernelspec": {
   "display_name": "Python [conda env:ML4QS]",
   "language": "python",
   "name": "conda-env-ML4QS-py"
  },
  "language_info": {
   "codemirror_mode": {
    "name": "ipython",
    "version": 3
   },
   "file_extension": ".py",
   "mimetype": "text/x-python",
   "name": "python",
   "nbconvert_exporter": "python",
   "pygments_lexer": "ipython3",
   "version": "3.7.10"
  }
 },
 "nbformat": 4,
 "nbformat_minor": 5
}
